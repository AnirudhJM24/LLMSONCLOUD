{
 "cells": [
  {
   "cell_type": "code",
   "execution_count": null,
   "metadata": {},
   "outputs": [],
   "source": [
    "# Download and install ollama to the system\n",
    "!curl https://ollama.ai/install.sh | sh\n",
    "!pip install ollama Flask\n",
    "!pip install aiohttp pyngrok\n",
    "# Download any other libraries u might need here ^"
   ]
  },
  {
   "cell_type": "code",
   "execution_count": null,
   "metadata": {},
   "outputs": [],
   "source": [
    "import os\n",
    "import asyncio"
   ]
  },
  {
   "cell_type": "code",
   "execution_count": null,
   "metadata": {},
   "outputs": [],
   "source": [
    "# Set LD_LIBRARY_PATH so the system NVIDIA library \n",
    "os.environ.update({'LD_LIBRARY_PATH': '/usr/lib64-nvidia'})\n",
    "\n",
    "async def run_process(cmd):\n",
    "  print('>>> starting', *cmd)\n",
    "  p = await asyncio.subprocess.create_subprocess_exec(\n",
    "      *cmd,\n",
    "      stdout=asyncio.subprocess.PIPE,\n",
    "      stderr=asyncio.subprocess.PIPE,\n",
    "  )\n",
    "\n",
    "  async def pipe(lines):\n",
    "    async for line in lines:\n",
    "      print(line.strip().decode('utf-8'))\n",
    "\n",
    "  await asyncio.gather(\n",
    "      pipe(p.stdout),\n",
    "      pipe(p.stderr),\n",
    "  )\n",
    "\n",
    "#register an account at ngrok.com and create an authtoken and place it here\n",
    "await asyncio.gather(\n",
    "    run_process(['ngrok', 'config', 'add-authtoken','your-token-here'])\n",
    ")\n",
    "\n",
    "await asyncio.gather(\n",
    "    run_process(['ollama', 'serve']),\n",
    "    run_process(['ollama','pull','model-name']),# download model of your choice\n",
    "    run_process(['ollama','list']), # display available models\n",
    "    run_process(['python3','server.py']), # server.py uploaded in repo\n",
    "    run_process(['ngrok', 'http', '--log', 'stderr', '5000', '--host-header', 'localhost:5000'])\n",
    ")"
   ]
  }
 ],
 "metadata": {
  "language_info": {
   "name": "python"
  }
 },
 "nbformat": 4,
 "nbformat_minor": 2
}
